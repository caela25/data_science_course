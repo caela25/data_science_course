{
 "cells": [
  {
   "cell_type": "markdown",
   "metadata": {},
   "source": [
    "# Ejercicios para practicar"
   ]
  },
  {
   "cell_type": "markdown",
   "metadata": {},
   "source": [
    "**Ejercicio1**: Escribe un programa que dado el valor del radio de una circunferencia, imprima el valor de su longitud y el área del círculo que delimita. Para hacerlo sigue los siguiente pasos:\n",
    "\n",
    "1. Declara una variable pi y asígnale el valor 3.14159. \n",
    "2. Declara una variable radio y asígnale el valor 5.\n",
    "3. Usa la siguientes fórmulas para calcular la longitud de la circunferencia y el área del círculo:\n",
    "\n",
    "    longitud = 2 * pi * radio\n",
    "    \n",
    "    area = pi * radio * radio \n",
    "4. Imprime el resultado"
   ]
  },
  {
   "cell_type": "markdown",
   "metadata": {},
   "source": [
    "**Ejercicio2**: Haz un programa que pida al usuario su nombre y escriba el número de letras que contiene."
   ]
  },
  {
   "cell_type": "markdown",
   "metadata": {},
   "source": [
    "**Ejercicio3**: Haz un programa que pida al usuario la longitud de un lado de un cuadrado e imprima su perímetro y su área."
   ]
  },
  {
   "cell_type": "markdown",
   "metadata": {},
   "source": [
    "**Ejercicio4**: Haz un programa que pida al usuario el precio de un producto sin IVA e imprima el precio con IVA asumiendo un impuesto del 21%.\n",
    " "
   ]
  },
  {
   "cell_type": "markdown",
   "metadata": {},
   "source": [
    "**Ejercicio5**: Escribe un programa que pregunte al usuario el resultado de multiplicar 3 por 7 y a continuación le diga si ha acertado o no."
   ]
  },
  {
   "cell_type": "markdown",
   "metadata": {},
   "source": [
    "**Ejercicio6**: Escribe un programa que pida dos números enteros al usuario y a continuación imprima el menor."
   ]
  },
  {
   "cell_type": "markdown",
   "metadata": {},
   "source": [
    "**Ejercicio7**: Escribe un programa que pida al usuario el nombre de un país europeo y a continuación escriba su población según la siguiente tabla:\n",
    "\n",
    "\n",
    "|España | Francia | Portugal | Alemania | Reino Unido|\n",
    "|-------|---------|----------|----------|------------|\n",
    "|  46M  |   64M   |    10M   |    81M   |     65M    |\n",
    "\n",
    "\n",
    "\n",
    "Si el país introducido no está en la tabla anterior el programa dirá que no conoce la población de ese país."
   ]
  },
  {
   "cell_type": "markdown",
   "metadata": {},
   "source": [
    "**Ejercicio8**: Escribe un programa que solicite al usuario la base y la altura de un triángulo y calcule su área (base * altura / 2). Si alguno de los datos introducidos no es válido (por ejemplo altura negativa o cero) debe mostrar un mensaje de error y no hacer ningún cálculo."
   ]
  },
  {
   "cell_type": "markdown",
   "metadata": {},
   "source": [
    "**Ejercicio9**: Escribe un programa que pida un número al usuario y decida si es un número molón. Los números molones son los que son divisibles por 3 y por 7 o aquellos que son mayores que 127 y menores que 255. Para comprobar si un número a es divisible por 3 sólo tienes que comprobar que el resto de la división entera sea cero (a % 3 == 0)."
   ]
  },
  {
   "cell_type": "markdown",
   "metadata": {},
   "source": [
    "**Ejercicio10**: Escribe un programa que calcule la nota media de un alumno dadas las notas de sus dos exámenes parciales. El alumno estará suspenso si no ha aprobado ambos parciales."
   ]
  },
  {
   "cell_type": "markdown",
   "metadata": {},
   "source": [
    "**Ejercicio11**: Casi todo el mundo piensa que los años bisiestos son los divisibles por 4 (por ejemplo 1988, 1992 y 1996 son años bisiestos). Pero existe una excepción a esa regla: los años divisibles por 100 sólo son bisiestos sin además son divisibles por 400. Por ese motivo el año 1600 es bisiesto pero el 1700 no lo es.\n",
    "Haz un programa que pida un año al usuario y diga si es bisiesto o no."
   ]
  },
  {
   "cell_type": "markdown",
   "metadata": {},
   "source": [
    "**Ejercicio12**: Escribe un programa que calcule la nota final de un alumno a partir de las calificaciones de los 3 exámenes parciales que ha realizado, teniendo en cuenta que el primer examen parcial vale un 20% , el segundo un 30% y el último un 50% de la nota final.\n",
    "El programa comenzará preguntando el nombre del alumno y cada una de sus 3 calificaciones y a continuación mostrará su nota final. La ejecución debería ser similar a la siguiente:\n",
    "\n",
    "\n",
    "``\n",
    "Nombre del alumno: Juan Casas\n",
    "Nota del examen parcial 1: 8\n",
    "Nota del examen parcial 2: 6.5\n",
    "Nota del examen parcial 3: 9.25\n",
    "La calificación final de Juan Casas es 8.17`\n",
    "``\n"
   ]
  },
  {
   "cell_type": "markdown",
   "metadata": {},
   "source": [
    "**Ejercicio13**: Escribe un programa que pregunte al usuario un nombre de mes y escriba el número de días que tiene. El nombre del mes puede estar escrito todo en minúsculas o con la primera letra en mayúsculas. Consideraremos que el año no es bisiesto y por tanto febrero siempre tiene 28 días. Si el usuario introduce un mes que no existe el programa mostrará un mensaje indicando que no conoce ese mes.\n",
    "A continuación se muestran varios ejemplos de ejecución:\n",
    "\n",
    "``\n",
    "Introduzca el nombre del mes: enero enero tiene 31 días.\n",
    "Introduzca el nombre del mes: Abril Abril tiene 30 días\n",
    "Introduzca el nombre del mes: diciemb No conozco ese mes\n",
    "``\n"
   ]
  },
  {
   "cell_type": "markdown",
   "metadata": {},
   "source": [
    "**Ejercicio14**: Escribe un programa que sume los números naturales, pero pregunta al usuario cuál es el número cuya suma quiere calcular."
   ]
  },
  {
   "cell_type": "markdown",
   "metadata": {},
   "source": [
    "**Ejercicio15**: Escribe un programa que encuentre el número deseado en una lista, y escriba su posición."
   ]
  },
  {
   "cell_type": "code",
   "execution_count": 14,
   "metadata": {},
   "outputs": [
    {
     "name": "stdout",
     "output_type": "stream",
     "text": [
      "3\n"
     ]
    }
   ],
   "source": [
    "def encuentra(numero, lista):\n",
    "    for posicion, valor in enumerate(lista):\n",
    "        if numero == valor:\n",
    "            print(posicion)\n",
    "            break\n",
    "            \n",
    "encuentra(7, [2, 4, 5, 7, 9])"
   ]
  },
  {
   "cell_type": "code",
   "execution_count": 1,
   "metadata": {},
   "outputs": [
    {
     "name": "stdout",
     "output_type": "stream",
     "text": [
      "Miami\n",
      "me\n",
      "lo\n",
      "confirmo\n",
      "!!!!\n"
     ]
    }
   ],
   "source": [
    "cancion = ['Miami', 'me', 'lo', 'confirmo', '!!!!']\n",
    "\n",
    "for palabra in cancion:\n",
    "    print(palabra)"
   ]
  },
  {
   "cell_type": "code",
   "execution_count": 4,
   "metadata": {},
   "outputs": [
    {
     "name": "stdout",
     "output_type": "stream",
     "text": [
      "Help on class enumerate in module builtins:\n",
      "\n",
      "class enumerate(object)\n",
      " |  enumerate(iterable, start=0)\n",
      " |  \n",
      " |  Return an enumerate object.\n",
      " |  \n",
      " |    iterable\n",
      " |      an object supporting iteration\n",
      " |  \n",
      " |  The enumerate object yields pairs containing a count (from start, which\n",
      " |  defaults to zero) and a value yielded by the iterable argument.\n",
      " |  \n",
      " |  enumerate is useful for obtaining an indexed list:\n",
      " |      (0, seq[0]), (1, seq[1]), (2, seq[2]), ...\n",
      " |  \n",
      " |  Methods defined here:\n",
      " |  \n",
      " |  __getattribute__(self, name, /)\n",
      " |      Return getattr(self, name).\n",
      " |  \n",
      " |  __iter__(self, /)\n",
      " |      Implement iter(self).\n",
      " |  \n",
      " |  __next__(self, /)\n",
      " |      Implement next(self).\n",
      " |  \n",
      " |  __reduce__(...)\n",
      " |      Return state information for pickling.\n",
      " |  \n",
      " |  ----------------------------------------------------------------------\n",
      " |  Static methods defined here:\n",
      " |  \n",
      " |  __new__(*args, **kwargs) from builtins.type\n",
      " |      Create and return a new object.  See help(type) for accurate signature.\n",
      "\n"
     ]
    }
   ],
   "source": [
    "help(enumerate)"
   ]
  },
  {
   "cell_type": "code",
   "execution_count": 7,
   "metadata": {},
   "outputs": [
    {
     "name": "stdout",
     "output_type": "stream",
     "text": [
      "La palabra Miami esta en la posicion 1\n",
      "La palabra me esta en la posicion 2\n",
      "La palabra lo esta en la posicion 3\n",
      "La palabra confirmo esta en la posicion 4\n",
      "La palabra !!!! esta en la posicion 5\n"
     ]
    }
   ],
   "source": [
    "cancion = ['Miami', 'me', 'lo', 'confirmo', '!!!!']\n",
    "\n",
    "for posicion, palabra in enumerate(cancion, 1):\n",
    "    print(f'La palabra {palabra} esta en la posicion {posicion}')"
   ]
  },
  {
   "cell_type": "code",
   "execution_count": null,
   "metadata": {},
   "outputs": [],
   "source": []
  },
  {
   "cell_type": "markdown",
   "metadata": {},
   "source": [
    "**Ejercicio16**: Escribe un programa en el que se divida una lista en dos: una conteniendo los números pares, y otra los impares. Si se encuentra un cero, se avisará por pantalla y no se incluirá en ninguna lista."
   ]
  },
  {
   "cell_type": "markdown",
   "metadata": {},
   "source": [
    "**Ejercicio17**: Vamos a implementar un sistema de archivo de usuarios. Para ello, se va a preguntar al usuario un nombre y se va a meter en una lista de usuarios. Cada vez que se añade un nombre, se imprime toda la lista.\n",
    "Este es un ejemplo de ejecución:\n",
    "\n",
    "``\n",
    "Introduzca un nombre: Juan ['Juan']\n",
    "Introduzca un nombre: Ana ['Juan', 'Ana']\n",
    "Introduzca un nombre: Luis ['Juan', 'Ana', 'Luis'] Introduzca un nombre: fin Fin de la ejecución\n",
    "``\n",
    "\n",
    "\n",
    "Tendrás que tener en cuenta que:\n",
    "1. Tienes que leer de consola con input.\n",
    "\n",
    "2. Necesitas una variable para guardar el nombre que leas de consola.\n",
    "3. Necesitas crear una lista vacía al principio, y asignarle una variable. 4. Tendrás que incluir elementos con append.\n",
    "5. Tendrás que repetir un número indeterminado de veces, mientras que tu nombre actual sea diferente de \"fin\"."
   ]
  }
 ],
 "metadata": {
  "kernelspec": {
   "display_name": "Python 3",
   "language": "python",
   "name": "python3"
  },
  "language_info": {
   "codemirror_mode": {
    "name": "ipython",
    "version": 3
   },
   "file_extension": ".py",
   "mimetype": "text/x-python",
   "name": "python",
   "nbconvert_exporter": "python",
   "pygments_lexer": "ipython3",
   "version": "3.7.4"
  }
 },
 "nbformat": 4,
 "nbformat_minor": 4
}
