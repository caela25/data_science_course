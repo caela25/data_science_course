{
 "cells": [
  {
   "cell_type": "markdown",
   "metadata": {},
   "source": [
    "# Resolviendo las situaciones\n",
    "\n",
    "Bien, ahora que ya sabemos como calcular [probabilidades](https://es.wikipedia.org/wiki/Probabilidad), llegó finalmente el momento de ponerse a resolver las situaciones planteadas en el comienzo, para eso vamos a utilizar nuevamente un poco de [Python](https://www.python.org/). \n",
    "\n",
    "### La coincidencia de cumpleaños\n",
    "\n",
    "La [paradoja del cumpleaños](https://es.wikipedia.org/wiki/Paradoja_del_cumplea%C3%B1os) es un problema muy conocido en el campo de la [teoría de probabilidad](https://es.wikipedia.org/wiki/Teor%C3%ADa_de_la_probabilidad).\n",
    "Plantea las siguientes interesantes preguntas: ¿Cuál es la [probabilidad](https://es.wikipedia.org/wiki/Probabilidad) de que, en un grupo de personas elegidas al azar, al menos dos de ellas habrán nacido el mismo día del año? ¿Cuántas personas son necesarias para asegurar una probabilidad mayor al 50%?. Excluyendo el 29 de febrero de nuestros cálculos y asumiendo que los restantes 365 días de posibles cumpleaños son igualmente probables, nos sorprendería darnos cuenta de que, en un grupo de sólo 23 personas, la [probabilidad](https://es.wikipedia.org/wiki/Probabilidad) de que dos personas compartan la misma fecha de cumpleaños es mayor al 50%!.\n",
    "\n",
    "El truco para resolver el problema no es enfrentarse a el en primera persona si no plantear que ¿cuál es la probabilidad de que en un grupo de n personas al menos 2 cumplan años el mismo día? e infinitamente más sencillo es calcular la probabilidad opuesta ¿qué probabilidad hay de no acertar?. Especialmente si simplificamos el problema a un grupo muy pequeño. Supongamos que  el grupo sólo tiene una persona, en ese caso, hay una probabilidad del 100% que esta persona no comparte un cumpleaños puesto que no hay nadie más quien compartir. Pero ahora podemos añadir una segunda persona al grupo. ¿Cuáles son las posibilidades de que tenga un cumpleaños diferente de esa persona? De hecho esto es bastante fácil, hay 364 otros días en el año, así que las posibilidades son 364/365. ¿Qué tal si agregamos una tercera persona al grupo? Ahora hay 363/365 días. Para obtener la [probabilidad](https://es.wikipedia.org/wiki/Probabilidad) general de que no hay cumpleaños compartidos simplemente multiplicamos las probabilidades individuales. Si utilizamos este procedimiento, con la ayuda de [Python](https://www.python.org/) podemos calcular fácilmente las [probabilidades](https://es.wikipedia.org/wiki/Probabilidad) de un cumpleaños compartido en un grupo de 50 personas."
   ]
  },
  {
   "cell_type": "code",
   "execution_count": 10,
   "metadata": {
    "collapsed": false,
    "jupyter": {
     "outputs_hidden": false
    }
   },
   "outputs": [
    {
     "name": "stdout",
     "output_type": "stream",
     "text": [
      "Probabilidad de que compartan una misma fecha de cumpleaños es 0.97\n"
     ]
    }
   ],
   "source": [
    "# Ejemplo situación 2 La coincidencia de cumpleaños\n",
    "prob = 1.0\n",
    "asistentes = 50\n",
    "\n",
    "for i in range(asistentes):\n",
    "    prob = prob * (365-i)/365\n",
    "\n",
    "print(f\"Probabilidad de que compartan una misma fecha de cumpleaños es {round(1-prob, 3)}\")"
   ]
  },
  {
   "cell_type": "markdown",
   "metadata": {},
   "source": [
    "### Resolviendo la situación 2 - ¿Que puerta elegir?\n",
    "\n",
    "Este problema, más conocido con el nombre de [Monty Hall](https://es.wikipedia.org/wiki/Problema_de_Monty_Hall), también es un problema muy popular dentro de la [teoría de probabilidad](https://es.wikipedia.org/wiki/Teor%C3%ADa_de_la_probabilidad); y se destaca por su solución que a simple vista parece totalmente anti-intuitiva.\n",
    "Intuitivamente, es bastante sencillo que nuestra elección original (cuando hay tres puertas para elegir) tiene una [probabilidad](https://es.wikipedia.org/wiki/Probabilidad) de 1/3 de ganar el concurso. Las cosas sin embargo se complican, cuando se descarta una puerta. Muchos dirían que ahora tenemos una [probabilidad](https://es.wikipedia.org/wiki/Probabilidad) de 1/2 de ganar, seleccionando cualquiera de las dos puertas; pero este no es el caso. Un aspecto crítico del problema es darse cuenta de que la elección de la puerta a descartar por el presentador, no es una decisión al azar. El presentador puede descartar una puerta porque él sabe (a) qué puerta hemos seleccionado y (b) qué puerta tiene la ferrari. De hecho, en muchos casos, el presentador debe quitar una puerta específica. Por ejemplo, si seleccionamos la puerta 1 y el premio está detrás de la puerta 3, el presentador no tiene otra opción que retirar la puerta 2. Es decir, que la elección de la puerta a descartar está condicionada tanto por la puerta con el premio como por la puerta que seleccionamos inicialmente. Este hecho, cambia totalmente la naturaleza del juego, y hace que las [probabilidades](https://es.wikipedia.org/wiki/Probabilidad) de ganar sean 2/3 si cambiamos de puerta!.\n",
    "\n",
    "Si aun no están convencidos, simulemos los resultados del concurso con la ayuda de [Python](https://www.python.org/)."
   ]
  },
  {
   "cell_type": "code",
   "execution_count": 17,
   "metadata": {},
   "outputs": [],
   "source": [
    "import numpy as np"
   ]
  },
  {
   "cell_type": "code",
   "execution_count": 14,
   "metadata": {
    "collapsed": false,
    "jupyter": {
     "outputs_hidden": false
    }
   },
   "outputs": [],
   "source": [
    "def elegir_puerta():\n",
    "    \"\"\"\n",
    "    Función para elegir una puerta. Devuelve 1, 2, o 3 en forma aleatoria.\n",
    "    \"\"\"\n",
    "    return np.random.randint(1,4)\n",
    "\n",
    "\n",
    "class MontyHall:\n",
    "    \"\"\"\n",
    "    Clase para modelar el problema de Monty Hall.\n",
    "    \"\"\"\n",
    "    def __init__(self):\n",
    "        \"\"\"\n",
    "        Crea la instancia del problema. \n",
    "        \"\"\"\n",
    "        # Elige una puerta en forma aleatoria.\n",
    "        self.puerta_ganadora = elegir_puerta()\n",
    "        # variables para la puerta elegida y la puerta descartada\n",
    "        self.puerta_elegida = None\n",
    "        self.puerta_descartada = None\n",
    " \n",
    "    def selecciona_puerta(self):\n",
    "        \"\"\"\n",
    "        Selecciona la puerta del concursante en forma aleatoria.\n",
    "        \"\"\"\n",
    "        self.puerta_elegida = elegir_puerta()\n",
    " \n",
    "    def descarta_puerta(self):\n",
    "        \"\"\"\n",
    "        Con este método el presentador descarta una de la puertas.\n",
    "        \"\"\"\n",
    "        # elegir puerta en forma aleatoria .\n",
    "        d = elegir_puerta()\n",
    "        # Si es al puerta ganadora o la del concursante, volver a elegir.\n",
    "        while d == self.puerta_ganadora or d == self.puerta_elegida:\n",
    "            d = elegir_puerta()\n",
    "        # Asignar el valor a puerta_descartada.\n",
    "        self.puerta_descartada = d\n",
    " \n",
    "    def cambiar_puerta(self):\n",
    "        \"\"\"\n",
    "        Cambia la puerta del concursante una vez que se elimino una puerta.\n",
    "        \"\"\"\n",
    "        # 1+2+3=6. Solo existe una puerta para elegir.\n",
    "        self.puerta_elegida = 6 - self.puerta_elegida - self.puerta_descartada\n",
    " \n",
    "    def gana_concursante(self):\n",
    "        \"\"\"\n",
    "        Determina si el concursante gana. \n",
    "        Devuelve True si gana, False si pierde.\n",
    "        \"\"\"\n",
    "        return self.puerta_elegida == self.puerta_ganadora\n",
    "            \n",
    " \n",
    "    def jugar(self, cambiar=True):\n",
    "        \"\"\"\n",
    "        Una vez que la clase se inicio, jugar el concurso.\n",
    " \n",
    "        'cambiar' determina si el concursante cambia su elección.\n",
    "        \"\"\"\n",
    "        # El concursante elige una puerta.\n",
    "        self.selecciona_puerta()\n",
    "        # El presentador elimina una puerta.\n",
    "        self.descarta_puerta()\n",
    "        # El concursante cambia su elección.\n",
    "        if cambiar:\n",
    "            self.cambiar_puerta()\n",
    "        # Determinar si el concursante ha ganado.\n",
    "        return self.gana_concursante()"
   ]
  },
  {
   "cell_type": "code",
   "execution_count": 15,
   "metadata": {
    "collapsed": false,
    "jupyter": {
     "outputs_hidden": false
    }
   },
   "outputs": [
    {
     "name": "stdout",
     "output_type": "stream",
     "text": [
      "\n",
      "10.000 concursos sin cambiar de puerta:\n",
      "  gana: 3302 concursos\n",
      "  pierde: 6698 concursos\n",
      "  probabilidad: 33.02 procentaje de victorias\n"
     ]
    }
   ],
   "source": [
    "# Ahora, jugamos el concurso. primero nos vamos a quedar con nuestra elección\n",
    "# inicial. Vamos a ejecutar el experimiento 10.000 veces.\n",
    "gana, pierde = 0, 0\n",
    "for i in range(10000):\n",
    "    # Crear la instancia del problema.\n",
    "    s2 = MontyHall()\n",
    "    # ejecutar el concurso sin cambiar de puerta..\n",
    "    if s2.jugar(cambiar=False):\n",
    "        # si devuelve True significa que gana.\n",
    "        gana += 1\n",
    "    else:\n",
    "        # si devuelve False significa que pierde.\n",
    "        pierde += 1\n",
    "\n",
    "# veamos la fecuencia de victorias del concursante.\n",
    "porc_gana = 100.0 * gana / (gana + pierde)\n",
    " \n",
    "print(\"\\n10.000 concursos sin cambiar de puerta:\")\n",
    "print(\"  gana: {0:} concursos\".format(gana))\n",
    "print(\"  pierde: {0:} concursos\".format(pierde))\n",
    "print(\"  probabilidad: {0:.2f} procentaje de victorias\".format(porc_gana))"
   ]
  },
  {
   "cell_type": "code",
   "execution_count": 18,
   "metadata": {
    "collapsed": false,
    "jupyter": {
     "outputs_hidden": false
    }
   },
   "outputs": [
    {
     "name": "stdout",
     "output_type": "stream",
     "text": [
      "\n",
      "10.000 concursos cambiando de puerta:\n",
      "\t gana: 6678 concursos\n",
      "  pierde: 3322 concursos\n",
      "  probabilidad: 66.78 procentaje de victorias\n"
     ]
    }
   ],
   "source": [
    "# Ahora, jugamos el concurso siempre cambiando la elección inicial\n",
    "# Vamos a ejecutar el experimiento 10.000 veces.\n",
    "gana, pierde = 0, 0\n",
    "for i in range(10000):\n",
    "    # Crear la instancia del problema.\n",
    "    s2 = MontyHall()\n",
    "    # ejecutar el concurso con cambiar de puerta..\n",
    "    if s2.jugar(cambiar=True):\n",
    "        # si devuelve True significa que gana.\n",
    "        gana += 1\n",
    "    else:\n",
    "        # si devuelve False significa que pierde.\n",
    "        pierde += 1\n",
    "\n",
    "# veamos la fecuencia de victorias del concursante.\n",
    "porc_gana = 100.0 * gana / (gana + pierde)\n",
    " \n",
    "print(\"\\n10.000 concursos cambiando de puerta:\")\n",
    "print(\"\\t gana: {0:} concursos\".format(gana))\n",
    "print(\"  pierde: {0:} concursos\".format(pierde))\n",
    "print(\"  probabilidad: {0:.2f} procentaje de victorias\".format(porc_gana))"
   ]
  },
  {
   "cell_type": "code",
   "execution_count": null,
   "metadata": {},
   "outputs": [],
   "source": []
  }
 ],
 "metadata": {
  "kernelspec": {
   "display_name": "Python 3",
   "language": "python",
   "name": "python3"
  },
  "language_info": {
   "codemirror_mode": {
    "name": "ipython",
    "version": 3
   },
   "file_extension": ".py",
   "mimetype": "text/x-python",
   "name": "python",
   "nbconvert_exporter": "python",
   "pygments_lexer": "ipython3",
   "version": "3.7.4"
  }
 },
 "nbformat": 4,
 "nbformat_minor": 4
}
